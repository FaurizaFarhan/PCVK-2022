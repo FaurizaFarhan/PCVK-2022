{
  "nbformat": 4,
  "nbformat_minor": 0,
  "metadata": {
    "colab": {
      "name": "Jobsheet 2 PCVK.ipynb",
      "provenance": [],
      "authorship_tag": "ABX9TyPY38kMO0KQZiWgeIRofjcs",
      "include_colab_link": true
    },
    "kernelspec": {
      "name": "python3",
      "display_name": "Python 3"
    },
    "language_info": {
      "name": "python"
    }
  },
  "cells": [
    {
      "cell_type": "markdown",
      "metadata": {
        "id": "view-in-github",
        "colab_type": "text"
      },
      "source": [
        "<a href=\"https://colab.research.google.com/github/FaurizaFarhan/PCVK-2022/blob/main/Jobsheet_2_PCVK.ipynb\" target=\"_parent\"><img src=\"https://colab.research.google.com/assets/colab-badge.svg\" alt=\"Open In Colab\"/></a>"
      ]
    },
    {
      "cell_type": "code",
      "execution_count": null,
      "metadata": {
        "id": "uKcBf_hU86C2"
      },
      "outputs": [],
      "source": [
        ""
      ]
    }
  ]
}